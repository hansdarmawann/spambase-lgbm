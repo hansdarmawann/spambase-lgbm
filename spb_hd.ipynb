{
 "cells": [
  {
   "cell_type": "markdown",
   "id": "da2d5ef1",
   "metadata": {},
   "source": [
    "# (Title Here)\n",
    "Hans Darmawan - JCDS2602"
   ]
  },
  {
   "cell_type": "markdown",
   "id": "0c1fbd0f",
   "metadata": {},
   "source": [
    "# 1. Business Understanding"
   ]
  },
  {
   "cell_type": "markdown",
   "id": "1cee577e",
   "metadata": {},
   "source": [
    "# 2. Data Understanding"
   ]
  },
  {
   "cell_type": "markdown",
   "id": "0e705b5d",
   "metadata": {},
   "source": [
    "# 3. Data Prepartation"
   ]
  },
  {
   "cell_type": "markdown",
   "id": "a9486f03",
   "metadata": {},
   "source": [
    "# 4. Data Modeling"
   ]
  },
  {
   "cell_type": "markdown",
   "id": "de77178d",
   "metadata": {},
   "source": [
    "# 5. Evaluation"
   ]
  },
  {
   "cell_type": "markdown",
   "id": "70b242c9",
   "metadata": {},
   "source": [
    "# 6. Deployment"
   ]
  }
 ],
 "metadata": {
  "kernelspec": {
   "display_name": "myenv",
   "language": "python",
   "name": "python3"
  },
  "language_info": {
   "codemirror_mode": {
    "name": "ipython",
    "version": 3
   },
   "file_extension": ".py",
   "mimetype": "text/x-python",
   "name": "python",
   "nbconvert_exporter": "python",
   "pygments_lexer": "ipython3",
   "version": "3.12.7"
  }
 },
 "nbformat": 4,
 "nbformat_minor": 5
}
