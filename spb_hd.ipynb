{
 "cells": [
  {
   "cell_type": "markdown",
   "id": "da2d5ef1",
   "metadata": {},
   "source": [
    "# (Title Here)\n",
    "Hans Darmawan - JCDS2602"
   ]
  },
  {
   "cell_type": "markdown",
   "id": "0c1fbd0f",
   "metadata": {},
   "source": [
    "# 1. Business Understanding"
   ]
  },
  {
   "cell_type": "markdown",
   "id": "56c455dc",
   "metadata": {},
   "source": [
    "Electronic mail (email) is defined as a method of electronic messaging that can occur via direct computer links, local area networks, or wide area networks, typically involving messages sent between specific electronic mailboxes. Email messages are composed, transmitted, and received through a system of mail servers and clients following established protocols such as SMTP and POP3. Unique email addresses are assigned using Internet conventions to ensure proper routing and delivery of messages. Headers are added and modified by various mail servers during the transmission process to track the message’s journey and provide metadata. Email software features and security considerations have been outlined, emphasizing the speed, convenience, and necessary precautions when handling electronic mail (Sennewald & Baillie, 2016).\n",
    "\n",
    "Email spam, also known as junk email, is defined as unsolicited messages sent in bulk, often by botnets controlled by attackers. It is estimated that about half of the 350 billion daily emails in 2023 were spam, causing significant costs and risks to businesses and individuals. Various techniques such as botnets, snowshoe spam, and image spam are employed to distribute these messages. Spam emails often contain commercial content with financial motives or malicious links designed to steal information or spread malware. Efforts to combat spam include legal regulations, advanced filtering technologies, and user education to identify and report suspicious emails (Kirvan, Awati, & Teravainen, 2024).\n",
    "\n",
    "Email spamming significantly impacts both users and organizations by causing wasted time, increased bandwidth usage, and potential security risks such as phishing attacks and malware distribution (Almeida, Almeida & Yamakami, 2011). According to Metsis et al. (2006), a confusion matrix helps evaluate the performance of a spam filter by categorizing outcomes into four types In the context of spam detection, which are:\n",
    "- A true positive (TP) occurs when a spam email is correctly identified as spam.\n",
    "- A true negative (TN) is when a legitimate email is correctly classified as not spam. \n",
    "- A false positive (FP) happens when a legitimate email is incorrectly marked as spam, causing important messages to be missed. \n",
    "- A false negative (FN) is when a spam email is mistakenly classified as legitimate, allowing unwanted content to reach the user’s inbox. \n",
    "\n",
    "In the context of email spam filtering, false negatives (FNs) are generally more dangerous than false positives (FPs) because false negatives allow harmful spam—such as phishing or malware emails—to reach the user's inbox, potentially causing significant financial losses, data breaches, and security compromises (Guzella & Caminhas, 2009). False positives, while inconvenient because legitimate emails are wrongly classified as spam, usually result in missed or delayed communication rather than direct harm. Financially, the cost of a false negative can be modeled as the expected loss from a successful attack or fraud, and the cost of a false positive is the operational cost of recovering missed legitimate messages. For example, if the average financial loss per false negative is 5,000 USD and the cost per false positive is 100 USD, then the total expected loss is calculated as:\n",
    "\n",
    "     (number of false negatives × 5,000) + (number of false positives × 100). \n",
    "\n",
    "Therefore, reducing false negatives is critical to minimizing overall risk and financial damage caused by spam emails."
   ]
  },
  {
   "cell_type": "markdown",
   "id": "1cee577e",
   "metadata": {},
   "source": [
    "# 2. Data Understanding"
   ]
  },
  {
   "cell_type": "markdown",
   "id": "0e705b5d",
   "metadata": {},
   "source": [
    "# 3. Data Prepartation"
   ]
  },
  {
   "cell_type": "markdown",
   "id": "a9486f03",
   "metadata": {},
   "source": [
    "# 4. Data Modeling"
   ]
  },
  {
   "cell_type": "markdown",
   "id": "de77178d",
   "metadata": {},
   "source": [
    "# 5. Evaluation"
   ]
  },
  {
   "cell_type": "markdown",
   "id": "70b242c9",
   "metadata": {},
   "source": [
    "# 6. Deployment"
   ]
  },
  {
   "cell_type": "markdown",
   "id": "e251d383",
   "metadata": {},
   "source": [
    "# References"
   ]
  },
  {
   "cell_type": "markdown",
   "id": "ba6508c0",
   "metadata": {},
   "source": [
    "Almeida, T. A., Almeida, J. M., & Yamakami, A. (2011). Spam filtering: How the dimensionality reduction affects the accuracy of classifiers. *Information Sciences*, 181(6), 1138-1152. https://jisajournal.springeropen.com/articles/10.1007/s13174-010-0014-7\n",
    "\n",
    "Guzella, T. S., & Caminhas, W. M. (2009). A review of machine learning approaches to spam filtering. Expert Systems with Applications, 36(7), 10206-10222. https://www.sciencedirect.com/science/article/abs/pii/S095741740900181X\n",
    "\n",
    "Hopkins, M., Reeber, E., Forman, G., & Suermondt, J. (1999). *Spambase* [Dataset]. UCI Machine Learning Repository. https://doi.org/10.24432/C53G6X\n",
    "\n",
    "Kirvan, P., Awati, R., & Teravainen, T. (2024). What is email spam and how to fight it? TechTarget. https://www.techtarget.com/searchsecurity/definition/spam\n",
    "\n",
    "Metsis, V., Androutsopoulos, I., & Paliouras, G. (2006). Spam filtering with naive Bayes-which naive Bayes? *CEAS 2006 - Third Conference on Email and Anti-Spam.*\n",
    "\n",
    "Sennewald, C. A., & Baillie, C. (2016). Computers and effective security management. *Effective security management* (6th ed., pp. 235–249). Elsevier."
   ]
  }
 ],
 "metadata": {
  "kernelspec": {
   "display_name": "myenv",
   "language": "python",
   "name": "python3"
  },
  "language_info": {
   "codemirror_mode": {
    "name": "ipython",
    "version": 3
   },
   "file_extension": ".py",
   "mimetype": "text/x-python",
   "name": "python",
   "nbconvert_exporter": "python",
   "pygments_lexer": "ipython3",
   "version": "3.12.7"
  }
 },
 "nbformat": 4,
 "nbformat_minor": 5
}
